{
  "nbformat": 4,
  "nbformat_minor": 0,
  "metadata": {
    "colab": {
      "name": "TicTacToe-FirstEdition.ipynb",
      "provenance": [],
      "collapsed_sections": [],
      "authorship_tag": "ABX9TyMyqhE+2i3pRjMrcIiecERP",
      "include_colab_link": true
    },
    "kernelspec": {
      "name": "python3",
      "display_name": "Python 3"
    }
  },
  "cells": [
    {
      "cell_type": "markdown",
      "metadata": {
        "id": "view-in-github",
        "colab_type": "text"
      },
      "source": [
        "<a href=\"https://colab.research.google.com/github/hudhanst/Learning/blob/master/TicTacToe_FirstEdition.ipynb\" target=\"_parent\"><img src=\"https://colab.research.google.com/assets/colab-badge.svg\" alt=\"Open In Colab\"/></a>"
      ]
    },
    {
      "cell_type": "markdown",
      "metadata": {
        "id": "IbvmIDEKnTUt",
        "colab_type": "text"
      },
      "source": [
        "<h1><center>Creating TicTacToe Game</center></h1>"
      ]
    },
    {
      "cell_type": "markdown",
      "metadata": {
        "id": "tFPPBFOiniNw",
        "colab_type": "text"
      },
      "source": [
        "# <h2>how we make a TicTacToe games?</h2>\n",
        "<ul>\n",
        "<li>creat a board</li>\n",
        "<li>how to fell in a board</li>\n",
        "<li>win condition chec</li>\n",
        "<ul>\n",
        "<li>horizontall</li>\n",
        "<li>vertical</li>\n",
        "<li>diagonal left side</li>\n",
        "<li>diagonal reight side</li>\n",
        "</ul>\n",
        "<li>end the game and show winer</li>\n",
        "</ul>"
      ]
    },
    {
      "cell_type": "code",
      "metadata": {
        "id": "HxFrYuGGXwFU",
        "colab_type": "code",
        "colab": {}
      },
      "source": [
        "import random\n",
        "import time\n",
        "size=3"
      ],
      "execution_count": 0,
      "outputs": []
    },
    {
      "cell_type": "markdown",
      "metadata": {
        "id": "Lp7NnL3dZ0KF",
        "colab_type": "text"
      },
      "source": [
        "## creat a board\n",
        "\n",
        "the way i creat a board is by looping into 2d list for \"size\"(global variable), so we can change how big board size by only changging size variable in global"
      ]
    },
    {
      "cell_type": "code",
      "metadata": {
        "id": "WIQyp9yYYQC9",
        "colab_type": "code",
        "colab": {}
      },
      "source": [
        "board=[[\"\" for x in range(size)]for y in range(size)]\n",
        "# board=[\n",
        "#        [\"00\",\"01\",\"02\"],\n",
        "#        [\"10\",\"11\",\"12\"],\n",
        "#        [\"20\",\"21\",\"22\"]\n",
        "# ]\n",
        "# print(board)\n"
      ],
      "execution_count": 0,
      "outputs": []
    },
    {
      "cell_type": "code",
      "metadata": {
        "id": "jH8Wo7nabRN0",
        "colab_type": "code",
        "colab": {}
      },
      "source": [
        "def draw():\n",
        "    for i in range(size):\n",
        "        print(board[i])"
      ],
      "execution_count": 0,
      "outputs": []
    },
    {
      "cell_type": "markdown",
      "metadata": {
        "id": "s9zRS966aW3Z",
        "colab_type": "text"
      },
      "source": [
        "## how to fell in a board \n",
        "randoming 2 number in range of size and then fill a board thaere is non fell with \"X\" or \"O\" if the random place alredy fill the turn will loop them self. Letter on hope can chage a random waay with humman input and ai so game will fell more natural"
      ]
    },
    {
      "cell_type": "code",
      "metadata": {
        "id": "PCJPXp_0YSyB",
        "colab_type": "code",
        "colab": {}
      },
      "source": [
        "def TurnA():\n",
        "    x=random.randrange(size)\n",
        "    y=random.randrange(size)\n",
        "    if board[x][y] is None or board[x][y] == \"\":\n",
        "        board[x][y]=\"X\"\n",
        "    else:\n",
        "        TurnA()\n",
        "def TurnB():\n",
        "    x=random.randrange(size)\n",
        "    y=random.randrange(size)\n",
        "\n",
        "    if board[x][y] is None or board[x][y] == \"\":\n",
        "        board[x][y]=\"O\"\n",
        "    else:\n",
        "        TurnB()"
      ],
      "execution_count": 0,
      "outputs": []
    },
    {
      "cell_type": "markdown",
      "metadata": {
        "id": "jfRKSbWJbWgK",
        "colab_type": "text"
      },
      "source": [
        "## win condition check\n",
        "<li>horizontall</li>\n",
        "<li>vertical</li>\n",
        "<li>diagonal left side</li>\n",
        "<li>diagonal reight side</li>"
      ]
    },
    {
      "cell_type": "code",
      "metadata": {
        "id": "UeNnIOMEYd8T",
        "colab_type": "code",
        "colab": {}
      },
      "source": [
        "def WinChek():\n",
        "    d1counter=0\n",
        "    d2counter=0\n",
        "    Condition=False\n",
        "    for i in range(size):\n",
        "        # print(\"i=\",i)\n",
        "        zero=0\n",
        "        # kebawah\n",
        "        counter=zero\n",
        "        if Condition==False:\n",
        "            for y in range(size):\n",
        "                # print(\"kebawah\",i,y,Condition)\n",
        "                c=y+1\n",
        "                # print(\"j=\",j)\n",
        "                if y == (size-1) :\n",
        "                    z=board[0][i]\n",
        "                else:\n",
        "                    z=board[c][i]\n",
        "                if board[y][i] == z and z is not \"\" and z is not None:\n",
        "                    # print(\"true\")\n",
        "                    counter=counter+1\n",
        "                else:\n",
        "                    # print(\"no\")\n",
        "                    counter=counter+0\n",
        "                if counter==size:\n",
        "                    z=z\n",
        "                    Condition=True\n",
        "                    # print(\"pemenanganya adalah:\",z)\n",
        "                    break\n",
        "                else:\n",
        "                    Condition=Condition\n",
        "                    # z=None\n",
        "        else:\n",
        "            None\n",
        "\n",
        "        counter=zero\n",
        "        if Condition==False:\n",
        "            for x in range(size):\n",
        "                # print(\"kesamping\",i,x,Condition)\n",
        "                c=x+1\n",
        "                # print(\"j=\",j)\n",
        "                if x == (size-1) :\n",
        "                    z=board[i][0]\n",
        "                else:\n",
        "                    z=board[i][c]\n",
        "                if board[i][x] == z and z is not \"\" and z is not None:\n",
        "                    # print(\"true\")\n",
        "                    counter=counter+1\n",
        "                else:\n",
        "                    # print(\"no\")\n",
        "                    counter=counter+0\n",
        "                if counter==size:\n",
        "                    z=z\n",
        "                    Condition=True\n",
        "                    # print(\"pemenanganya adalah:\",z)\n",
        "                    break\n",
        "                else:\n",
        "                    Condition=Condition\n",
        "                    # z=None\n",
        "        else:\n",
        "            None\n",
        "\n",
        "\n",
        "        if Condition==False:\n",
        "            # diagonal\n",
        "            for j in range(size):\n",
        "                # print(\"d1\",i,j,Condition)\n",
        "                if i==j:\n",
        "                    c=j+1\n",
        "                    if j == (size-1):\n",
        "                        z=board[0][0]\n",
        "                    else:\n",
        "                        z=board[c][c]\n",
        "                    if board[j][j]==z and z is not \"\" and z is not None:\n",
        "                        d1counter=d1counter+1\n",
        "                    else:\n",
        "                        d1counter=d1counter+0\n",
        "                    if d1counter==size: \n",
        "                        z=z\n",
        "                        Condition=True\n",
        "                        # print(\"pemenanganya adalah:\",z)\n",
        "                        break\n",
        "                    else:\n",
        "                        Condition=Condition\n",
        "                    # z=None\n",
        "        else:\n",
        "            None\n",
        "\n",
        "        if Condition==False:\n",
        "            for j in range(size):\n",
        "                # print(\"d2\",i,j,Condition)\n",
        "                # print(\"i=\",i,\"j=\",j)\n",
        "                if i==i and j == (size-1)-i:\n",
        "                    # print(i,j)\n",
        "                    # print(board[i][j]) \n",
        "                    if board[i][j]==board[size-1][j]:\n",
        "                        z=board[0][size-1]\n",
        "                        # print(\"z=\",z,\"z1= 0\",size-1)\n",
        "                    else:\n",
        "                        z=board[i+1][j-1]\n",
        "                        # print(\"z=\",z,\"z2=\",i+1,j-1)\n",
        "                    if board[i][j]==z and z is not \"\" and z is not None:\n",
        "                        # print(z)\n",
        "                        d2counter=d2counter+1\n",
        "                    else:\n",
        "                        d2counter=d2counter+0\n",
        "                    # print(\"jumlah\",d2counter)\n",
        "                    if d2counter==size:\n",
        "                        z=z\n",
        "                        Condition=True\n",
        "                        # print(\"pemenanganya adalah:\",z)\n",
        "                        break\n",
        "                    else:\n",
        "                        Condition=Condition\n",
        "                    # z=None\n",
        "                else:\n",
        "                    None\n",
        "        else:\n",
        "            None\n",
        "                    \n",
        "    return Condition,z"
      ],
      "execution_count": 0,
      "outputs": []
    },
    {
      "cell_type": "markdown",
      "metadata": {
        "id": "JFOLJ4Akbv4q",
        "colab_type": "text"
      },
      "source": [
        "## finishing\n",
        "<li>first step determine by turn time</li>\n",
        "<li>the \"WinChek()\" function will return a condition and a winner, if conndition come to True the \"Turn()\" function will end and show the winner</li>"
      ]
    },
    {
      "cell_type": "code",
      "metadata": {
        "id": "lhO_9_ouXrrB",
        "colab_type": "code",
        "colab": {
          "base_uri": "https://localhost:8080/",
          "height": 799
        },
        "outputId": "43490b2c-e97a-49ea-868c-6feaa0404d32"
      },
      "source": [
        "def Turn():\n",
        "    timestart=time.time()\n",
        "    i=1\n",
        "    # print(board)\n",
        "    while i < (size*size)+1:\n",
        "        if i == 1:\n",
        "            print(\"board\")\n",
        "            draw()\n",
        "        else:\n",
        "            None\n",
        "\n",
        "        if i%2==1:\n",
        "            TurnA()\n",
        "        else:\n",
        "            TurnB()\n",
        "        print(\"langkah ke- \",i)\n",
        "        draw()\n",
        "        Condition,z=WinChek()\n",
        "        if Condition==True:\n",
        "            print(\"Pemenangnya\",z)\n",
        "            break\n",
        "        elif i == size*size and Condition==False:\n",
        "            print(\"tie game\")\n",
        "            break\n",
        "        else:\n",
        "            print(\"\\n\")\n",
        "            i=i+1\n",
        "    timeend=time.time()\n",
        "    print(timeend-timestart)\n",
        "        \n",
        "Turn()"
      ],
      "execution_count": 6,
      "outputs": [
        {
          "output_type": "stream",
          "text": [
            "board\n",
            "['', '', '']\n",
            "['', '', '']\n",
            "['', '', '']\n",
            "langkah ke-  1\n",
            "['', '', '']\n",
            "['', 'X', '']\n",
            "['', '', '']\n",
            "\n",
            "\n",
            "langkah ke-  2\n",
            "['', '', '']\n",
            "['', 'X', 'O']\n",
            "['', '', '']\n",
            "\n",
            "\n",
            "langkah ke-  3\n",
            "['', '', 'X']\n",
            "['', 'X', 'O']\n",
            "['', '', '']\n",
            "\n",
            "\n",
            "langkah ke-  4\n",
            "['', '', 'X']\n",
            "['O', 'X', 'O']\n",
            "['', '', '']\n",
            "\n",
            "\n",
            "langkah ke-  5\n",
            "['', '', 'X']\n",
            "['O', 'X', 'O']\n",
            "['', '', 'X']\n",
            "\n",
            "\n",
            "langkah ke-  6\n",
            "['', 'O', 'X']\n",
            "['O', 'X', 'O']\n",
            "['', '', 'X']\n",
            "\n",
            "\n",
            "langkah ke-  7\n",
            "['', 'O', 'X']\n",
            "['O', 'X', 'O']\n",
            "['X', '', 'X']\n",
            "Pemenangnya X\n",
            "0.0068781375885009766\n"
          ],
          "name": "stdout"
        }
      ]
    }
  ]
}
